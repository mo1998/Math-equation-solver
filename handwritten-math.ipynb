{
 "cells": [
  {
   "cell_type": "code",
   "execution_count": 1,
   "id": "323ef2cd",
   "metadata": {
    "_cell_guid": "b1076dfc-b9ad-4769-8c92-a6c4dae69d19",
    "_uuid": "8f2839f25d086af736a60e9eeb907d3b93b6e0e5",
    "execution": {
     "iopub.execute_input": "2023-03-06T07:50:49.005374Z",
     "iopub.status.busy": "2023-03-06T07:50:49.004619Z",
     "iopub.status.idle": "2023-03-06T07:50:50.022951Z",
     "shell.execute_reply": "2023-03-06T07:50:50.021943Z"
    },
    "papermill": {
     "duration": 1.029626,
     "end_time": "2023-03-06T07:50:50.026058",
     "exception": false,
     "start_time": "2023-03-06T07:50:48.996432",
     "status": "completed"
    },
    "tags": []
   },
   "outputs": [],
   "source": [
    "import numpy as np \n",
    "import pandas as pd \n",
    "import matplotlib.pyplot as plt\n",
    "import os\n",
    "import cv2\n",
    "from sklearn import preprocessing\n",
    "from pathlib import Path\n",
    "from PIL import Image"
   ]
  },
  {
   "cell_type": "code",
   "execution_count": 2,
   "id": "2d51f6cf",
   "metadata": {
    "execution": {
     "iopub.execute_input": "2023-03-06T07:50:50.034705Z",
     "iopub.status.busy": "2023-03-06T07:50:50.034376Z",
     "iopub.status.idle": "2023-03-06T07:50:56.120581Z",
     "shell.execute_reply": "2023-03-06T07:50:56.119468Z"
    },
    "papermill": {
     "duration": 6.093544,
     "end_time": "2023-03-06T07:50:56.123438",
     "exception": false,
     "start_time": "2023-03-06T07:50:50.029894",
     "status": "completed"
    },
    "tags": []
   },
   "outputs": [],
   "source": [
    "symbols_list = ['zero','one','two','three','four','five','six','seven','eight','nine','minus','plus','equal','div','decimal','times']\n",
    "dataset_path = \"../input/handwritten-math-symbol-dataset/train\"\n",
    "train_image = []\n",
    "train_label = []\n",
    "\n",
    "for symbols_dir in os.listdir(dataset_path):\n",
    "    if symbols_dir.split()[0] in symbols_list:\n",
    "        for image in os.listdir(dataset_path + \"/\" + symbols_dir):\n",
    "            train_label.append(symbols_dir.split()[0])\n",
    "            train_image.append(dataset_path + \"/\" + symbols_dir + \"/\" + image)"
   ]
  },
  {
   "cell_type": "code",
   "execution_count": 3,
   "id": "cbb395e3",
   "metadata": {
    "execution": {
     "iopub.execute_input": "2023-03-06T07:50:56.133237Z",
     "iopub.status.busy": "2023-03-06T07:50:56.132180Z",
     "iopub.status.idle": "2023-03-06T07:50:57.007280Z",
     "shell.execute_reply": "2023-03-06T07:50:57.006243Z"
    },
    "papermill": {
     "duration": 0.882288,
     "end_time": "2023-03-06T07:50:57.009744",
     "exception": false,
     "start_time": "2023-03-06T07:50:56.127456",
     "status": "completed"
    },
    "tags": []
   },
   "outputs": [],
   "source": [
    "eval_path = \"../input/handwritten-math-symbol-dataset/eval\"\n",
    "test_image = []\n",
    "test_label = []\n",
    "\n",
    "for symbols_dir in os.listdir(eval_path):\n",
    "    if symbols_dir.split()[0] in symbols_list:\n",
    "        for image in os.listdir(eval_path + \"/\" + symbols_dir):\n",
    "            test_label.append(symbols_dir.split()[0])\n",
    "            test_image.append(eval_path + \"/\" + symbols_dir + \"/\" + image)"
   ]
  },
  {
   "cell_type": "code",
   "execution_count": 4,
   "id": "3032e977",
   "metadata": {
    "execution": {
     "iopub.execute_input": "2023-03-06T07:50:57.018185Z",
     "iopub.status.busy": "2023-03-06T07:50:57.017887Z",
     "iopub.status.idle": "2023-03-06T07:50:57.026617Z",
     "shell.execute_reply": "2023-03-06T07:50:57.025453Z"
    },
    "papermill": {
     "duration": 0.015825,
     "end_time": "2023-03-06T07:50:57.029257",
     "exception": false,
     "start_time": "2023-03-06T07:50:57.013432",
     "status": "completed"
    },
    "tags": []
   },
   "outputs": [
    {
     "name": "stdout",
     "output_type": "stream",
     "text": [
      "Length of train_image :  7557  , length of labels list :  7557\n",
      "Length of test_image :  1010  , length of labels list :  1010\n"
     ]
    }
   ],
   "source": [
    "print(\"Length of train_image : \" , len(train_image) , \" , length of labels list : \" ,len(train_label))\n",
    "print(\"Length of test_image : \" , len(test_image) , \" , length of labels list : \" ,len(test_label))"
   ]
  },
  {
   "cell_type": "code",
   "execution_count": 5,
   "id": "86fbe2cf",
   "metadata": {
    "execution": {
     "iopub.execute_input": "2023-03-06T07:50:57.038010Z",
     "iopub.status.busy": "2023-03-06T07:50:57.037726Z",
     "iopub.status.idle": "2023-03-06T07:50:57.292443Z",
     "shell.execute_reply": "2023-03-06T07:50:57.291462Z"
    },
    "papermill": {
     "duration": 0.262357,
     "end_time": "2023-03-06T07:50:57.295455",
     "exception": false,
     "start_time": "2023-03-06T07:50:57.033098",
     "status": "completed"
    },
    "tags": []
   },
   "outputs": [
    {
     "data": {
      "image/png": "[encoded data removed]",
      "text/plain": [
       "<Figure size 640x480 with 1 Axes>"
      ]
     },
     "metadata": {},
     "output_type": "display_data"
    }
   ],
   "source": [
    "image = cv2.imread(train_image[140])\n",
    "plt.imshow(image)\n",
    "plt.title(\"Label: \" + train_label[140])\n",
    "plt.show()"
   ]
  },
  {
   "cell_type": "code",
   "execution_count": 6,
   "id": "8f9a71af",
   "metadata": {
    "execution": {
     "iopub.execute_input": "2023-03-06T07:50:57.305005Z",
     "iopub.status.busy": "2023-03-06T07:50:57.304712Z",
     "iopub.status.idle": "2023-03-06T07:50:57.311202Z",
     "shell.execute_reply": "2023-03-06T07:50:57.310109Z"
    },
    "papermill": {
     "duration": 0.014703,
     "end_time": "2023-03-06T07:50:57.314385",
     "exception": false,
     "start_time": "2023-03-06T07:50:57.299682",
     "status": "completed"
    },
    "tags": []
   },
   "outputs": [
    {
     "data": {
      "text/plain": [
       "(135, 150, 3)"
      ]
     },
     "execution_count": 6,
     "metadata": {},
     "output_type": "execute_result"
    }
   ],
   "source": [
    "image.shape"
   ]
  },
  {
   "cell_type": "code",
   "execution_count": 7,
   "id": "b6867133",
   "metadata": {
    "execution": {
     "iopub.execute_input": "2023-03-06T07:50:57.323517Z",
     "iopub.status.busy": "2023-03-06T07:50:57.323253Z",
     "iopub.status.idle": "2023-03-06T07:51:04.634802Z",
     "shell.execute_reply": "2023-03-06T07:51:04.633727Z"
    },
    "papermill": {
     "duration": 7.318764,
     "end_time": "2023-03-06T07:51:04.637155",
     "exception": false,
     "start_time": "2023-03-06T07:50:57.318391",
     "status": "completed"
    },
    "tags": []
   },
   "outputs": [
    {
     "name": "stdout",
     "output_type": "stream",
     "text": [
      "Found 5616 images belonging to 16 classes.\n",
      "Found 1396 images belonging to 16 classes.\n",
      "Found 538 images belonging to 16 classes.\n"
     ]
    }
   ],
   "source": [
    "from tensorflow.keras.preprocessing.image import ImageDataGenerator\n",
    "\n",
    "train_datagen = ImageDataGenerator(rescale=1./255,\n",
    "                                   shear_range=0.2,\n",
    "                                   zoom_range=0.2,\n",
    "                                   rotation_range=10,\n",
    "                                   data_format='channels_last',\n",
    "                                   validation_split = 0.2) \n",
    "\n",
    "test_datagen = ImageDataGenerator(rescale=1./255,\n",
    "                                  data_format='channels_last')\n",
    "\n",
    "train_generator = train_datagen.flow_from_directory(\n",
    "    dataset_path,\n",
    "    target_size=(100, 100),\n",
    "    color_mode = \"rgb\",\n",
    "    shuffle = True,\n",
    "    batch_size = 48,\n",
    "    classes = symbols_list,\n",
    "    subset = 'training') \n",
    "\n",
    "valid_generator = train_datagen.flow_from_directory(\n",
    "    dataset_path, \n",
    "    target_size=(100, 100),\n",
    "    color_mode = \"rgb\",\n",
    "    shuffle = True,\n",
    "    batch_size = 48,\n",
    "    classes = symbols_list,\n",
    "    subset = 'validation') \n",
    "\n",
    "test_generator = test_datagen.flow_from_directory(\n",
    "    eval_path, \n",
    "    target_size=(100, 100),\n",
    "    color_mode = \"rgb\",\n",
    "    shuffle = True,\n",
    "    batch_size = 48,\n",
    "    classes = symbols_list) "
   ]
  },
  {
   "cell_type": "code",
   "execution_count": 8,
   "id": "18737c4e",
   "metadata": {
    "execution": {
     "iopub.execute_input": "2023-03-06T07:51:04.648667Z",
     "iopub.status.busy": "2023-03-06T07:51:04.647572Z",
     "iopub.status.idle": "2023-03-06T07:51:05.052093Z",
     "shell.execute_reply": "2023-03-06T07:51:05.050106Z"
    },
    "papermill": {
     "duration": 0.41213,
     "end_time": "2023-03-06T07:51:05.054392",
     "exception": false,
     "start_time": "2023-03-06T07:51:04.642262",
     "status": "completed"
    },
    "tags": []
   },
   "outputs": [
    {
     "name": "stdout",
     "output_type": "stream",
     "text": [
      "(48, 100, 100, 3)\n",
      "(48, 16)\n"
     ]
    }
   ],
   "source": [
    "img ,label = train_generator.next()\n",
    "print(img.shape)\n",
    "print(label.shape)"
   ]
  },
  {
   "cell_type": "code",
   "execution_count": 9,
   "id": "a05c4815",
   "metadata": {
    "execution": {
     "iopub.execute_input": "2023-03-06T07:51:05.064385Z",
     "iopub.status.busy": "2023-03-06T07:51:05.064076Z",
     "iopub.status.idle": "2023-03-06T07:51:08.233111Z",
     "shell.execute_reply": "2023-03-06T07:51:08.232297Z"
    },
    "papermill": {
     "duration": 3.20262,
     "end_time": "2023-03-06T07:51:08.261467",
     "exception": false,
     "start_time": "2023-03-06T07:51:05.058847",
     "status": "completed"
    },
    "tags": []
   },
   "outputs": [
    {
     "name": "stdout",
     "output_type": "stream",
     "text": [
      "Model: \"sequential\"\n",
      "_________________________________________________________________\n",
      " Layer (type)                Output Shape              Param #   \n",
      "=================================================================\n",
      " conv2d (Conv2D)             (None, 49, 49, 48)        1344      \n",
      "                                                                 \n",
      " batch_normalization (BatchN  (None, 49, 49, 48)       192       \n",
      " ormalization)                                                   \n",
      "                                                                 \n",
      " conv2d_1 (Conv2D)           (None, 24, 24, 96)        41568     \n",
      "                                                                 \n",
      " batch_normalization_1 (Batc  (None, 24, 24, 96)       384       \n",
      " hNormalization)                                                 \n",
      "                                                                 \n",
      " conv2d_2 (Conv2D)           (None, 12, 12, 96)        83040     \n",
      "                                                                 \n",
      " batch_normalization_2 (Batc  (None, 12, 12, 96)       384       \n",
      " hNormalization)                                                 \n",
      "                                                                 \n",
      " conv2d_3 (Conv2D)           (None, 5, 5, 192)         166080    \n",
      "                                                                 \n",
      " batch_normalization_3 (Batc  (None, 5, 5, 192)        768       \n",
      " hNormalization)                                                 \n",
      "                                                                 \n",
      " conv2d_4 (Conv2D)           (None, 2, 2, 480)         829920    \n",
      "                                                                 \n",
      " batch_normalization_4 (Batc  (None, 2, 2, 480)        1920      \n",
      " hNormalization)                                                 \n",
      "                                                                 \n",
      " flatten (Flatten)           (None, 1920)              0         \n",
      "                                                                 \n",
      " dropout (Dropout)           (None, 1920)              0         \n",
      "                                                                 \n",
      " dense (Dense)               (None, 16)                30736     \n",
      "                                                                 \n",
      "=================================================================\n",
      "Total params: 1,156,336\n",
      "Trainable params: 1,154,512\n",
      "Non-trainable params: 1,824\n",
      "_________________________________________________________________\n"
     ]
    }
   ],
   "source": [
    "from keras.models import Sequential\n",
    "from keras.layers import Dense, Dropout, Flatten, Conv2D, MaxPool2D, BatchNormalization\n",
    "from keras.callbacks import LearningRateScheduler\n",
    "\n",
    "input_shape = (48, 100, 100, 3)\n",
    "\n",
    "model = Sequential()\n",
    "model.add(Conv2D(48,kernel_size=3,strides=(2,2),activation='relu',input_shape=input_shape[1:]))\n",
    "model.add(BatchNormalization())\n",
    "model.add(Conv2D(96,kernel_size=3,strides=(2,2),activation='relu'))\n",
    "model.add(BatchNormalization())\n",
    "model.add(Conv2D(96,kernel_size=3,strides=(2,2),padding='same',activation='relu'))\n",
    "model.add(BatchNormalization())\n",
    "model.add(Conv2D(192,kernel_size=3,strides=(2,2),activation='relu'))\n",
    "model.add(BatchNormalization())\n",
    "model.add(Conv2D(480,kernel_size=3,strides=(2,2),activation='relu'))\n",
    "model.add(BatchNormalization())\n",
    "model.add(Flatten())\n",
    "model.add(Dropout(0.5))\n",
    "model.add(Dense(16,activation='softmax'))\n",
    "model.summary()"
   ]
  },
  {
   "cell_type": "code",
   "execution_count": 10,
   "id": "3dc6dc4f",
   "metadata": {
    "execution": {
     "iopub.execute_input": "2023-03-06T07:51:08.275688Z",
     "iopub.status.busy": "2023-03-06T07:51:08.275053Z",
     "iopub.status.idle": "2023-03-06T08:20:29.156888Z",
     "shell.execute_reply": "2023-03-06T08:20:29.155861Z"
    },
    "papermill": {
     "duration": 1760.891355,
     "end_time": "2023-03-06T08:20:29.159212",
     "exception": false,
     "start_time": "2023-03-06T07:51:08.267857",
     "status": "completed"
    },
    "tags": []
   },
   "outputs": [
    {
     "name": "stdout",
     "output_type": "stream",
     "text": [
      "Epoch 1/80\n",
      "117/117 [==============================] - 59s 422ms/step - loss: 1.6912 - accuracy: 0.5621 - val_loss: 4.1730 - val_accuracy: 0.1022 - lr: 0.0010\n",
      "Epoch 2/80\n",
      "117/117 [==============================] - 21s 178ms/step - loss: 0.6653 - accuracy: 0.7965 - val_loss: 5.6762 - val_accuracy: 0.0093 - lr: 9.5000e-04\n",
      "Epoch 3/80\n",
      "117/117 [==============================] - 21s 178ms/step - loss: 0.4893 - accuracy: 0.8476 - val_loss: 1.6288 - val_accuracy: 0.4071 - lr: 9.0250e-04\n",
      "Epoch 4/80\n",
      "117/117 [==============================] - 21s 181ms/step - loss: 0.3423 - accuracy: 0.8944 - val_loss: 5.9633 - val_accuracy: 0.2379 - lr: 8.5737e-04\n",
      "Epoch 5/80\n",
      "117/117 [==============================] - 21s 180ms/step - loss: 0.3021 - accuracy: 0.9078 - val_loss: 2.7275 - val_accuracy: 0.4071 - lr: 8.1451e-04\n",
      "Epoch 6/80\n",
      "117/117 [==============================] - 22s 185ms/step - loss: 0.2342 - accuracy: 0.9281 - val_loss: 3.7139 - val_accuracy: 0.3959 - lr: 7.7378e-04\n",
      "Epoch 7/80\n",
      "117/117 [==============================] - 22s 184ms/step - loss: 0.2103 - accuracy: 0.9311 - val_loss: 6.5463 - val_accuracy: 0.2454 - lr: 7.3509e-04\n",
      "Epoch 8/80\n",
      "117/117 [==============================] - 22s 185ms/step - loss: 0.1899 - accuracy: 0.9411 - val_loss: 4.0259 - val_accuracy: 0.4665 - lr: 6.9834e-04\n",
      "Epoch 9/80\n",
      "117/117 [==============================] - 22s 185ms/step - loss: 0.1501 - accuracy: 0.9532 - val_loss: 3.9236 - val_accuracy: 0.4089 - lr: 6.6342e-04\n",
      "Epoch 10/80\n",
      "117/117 [==============================] - 21s 175ms/step - loss: 0.1288 - accuracy: 0.9574 - val_loss: 1.4136 - val_accuracy: 0.6413 - lr: 6.3025e-04\n",
      "Epoch 11/80\n",
      "117/117 [==============================] - 21s 182ms/step - loss: 0.1204 - accuracy: 0.9623 - val_loss: 4.2414 - val_accuracy: 0.3699 - lr: 5.9874e-04\n",
      "Epoch 12/80\n",
      "117/117 [==============================] - 21s 180ms/step - loss: 0.1042 - accuracy: 0.9646 - val_loss: 0.2523 - val_accuracy: 0.9182 - lr: 5.6880e-04\n",
      "Epoch 13/80\n",
      "117/117 [==============================] - 22s 187ms/step - loss: 0.0822 - accuracy: 0.9752 - val_loss: 0.9313 - val_accuracy: 0.7472 - lr: 5.4036e-04\n",
      "Epoch 14/80\n",
      "117/117 [==============================] - 22s 186ms/step - loss: 0.0797 - accuracy: 0.9752 - val_loss: 0.4527 - val_accuracy: 0.8625 - lr: 5.1334e-04\n",
      "Epoch 15/80\n",
      "117/117 [==============================] - 21s 181ms/step - loss: 0.0722 - accuracy: 0.9758 - val_loss: 5.7116 - val_accuracy: 0.3309 - lr: 4.8767e-04\n",
      "Epoch 16/80\n",
      "117/117 [==============================] - 21s 177ms/step - loss: 0.0655 - accuracy: 0.9797 - val_loss: 5.7381 - val_accuracy: 0.3717 - lr: 4.6329e-04\n",
      "Epoch 17/80\n",
      "117/117 [==============================] - 21s 177ms/step - loss: 0.0666 - accuracy: 0.9815 - val_loss: 2.5498 - val_accuracy: 0.6171 - lr: 4.4013e-04\n",
      "Epoch 18/80\n",
      "117/117 [==============================] - 21s 175ms/step - loss: 0.0623 - accuracy: 0.9783 - val_loss: 16.3754 - val_accuracy: 0.1450 - lr: 4.1812e-04\n",
      "Epoch 19/80\n",
      "117/117 [==============================] - 21s 180ms/step - loss: 0.0513 - accuracy: 0.9831 - val_loss: 1.4325 - val_accuracy: 0.7416 - lr: 3.9721e-04\n",
      "Epoch 20/80\n",
      "117/117 [==============================] - 21s 179ms/step - loss: 0.0548 - accuracy: 0.9818 - val_loss: 0.3862 - val_accuracy: 0.8903 - lr: 3.7735e-04\n",
      "Epoch 21/80\n",
      "117/117 [==============================] - 21s 178ms/step - loss: 0.0471 - accuracy: 0.9870 - val_loss: 1.8250 - val_accuracy: 0.6599 - lr: 3.5849e-04\n",
      "Epoch 22/80\n",
      "117/117 [==============================] - 21s 179ms/step - loss: 0.0381 - accuracy: 0.9881 - val_loss: 18.7341 - val_accuracy: 0.1245 - lr: 3.4056e-04\n",
      "Epoch 23/80\n",
      "117/117 [==============================] - 20s 175ms/step - loss: 0.0406 - accuracy: 0.9861 - val_loss: 0.4783 - val_accuracy: 0.8922 - lr: 3.2353e-04\n",
      "Epoch 24/80\n",
      "117/117 [==============================] - 20s 172ms/step - loss: 0.0445 - accuracy: 0.9852 - val_loss: 1.3217 - val_accuracy: 0.7286 - lr: 3.0736e-04\n",
      "Epoch 25/80\n",
      "117/117 [==============================] - 21s 176ms/step - loss: 0.0379 - accuracy: 0.9875 - val_loss: 0.9591 - val_accuracy: 0.8030 - lr: 2.9199e-04\n",
      "Epoch 26/80\n",
      "117/117 [==============================] - 20s 173ms/step - loss: 0.0377 - accuracy: 0.9893 - val_loss: 0.7322 - val_accuracy: 0.8271 - lr: 2.7739e-04\n",
      "Epoch 27/80\n",
      "117/117 [==============================] - 20s 173ms/step - loss: 0.0317 - accuracy: 0.9916 - val_loss: 2.8808 - val_accuracy: 0.6171 - lr: 2.6352e-04\n",
      "Epoch 28/80\n",
      "117/117 [==============================] - 21s 178ms/step - loss: 0.0312 - accuracy: 0.9904 - val_loss: 6.0467 - val_accuracy: 0.4480 - lr: 2.5034e-04\n",
      "Epoch 29/80\n",
      "117/117 [==============================] - 21s 176ms/step - loss: 0.0266 - accuracy: 0.9918 - val_loss: 0.3211 - val_accuracy: 0.9089 - lr: 2.3783e-04\n",
      "Epoch 30/80\n",
      "117/117 [==============================] - 20s 172ms/step - loss: 0.0311 - accuracy: 0.9904 - val_loss: 1.2849 - val_accuracy: 0.7472 - lr: 2.2594e-04\n",
      "Epoch 31/80\n",
      "117/117 [==============================] - 20s 175ms/step - loss: 0.0202 - accuracy: 0.9954 - val_loss: 0.4053 - val_accuracy: 0.8903 - lr: 2.1464e-04\n",
      "Epoch 32/80\n",
      "117/117 [==============================] - 20s 173ms/step - loss: 0.0225 - accuracy: 0.9931 - val_loss: 3.8123 - val_accuracy: 0.4870 - lr: 2.0391e-04\n",
      "Epoch 33/80\n",
      "117/117 [==============================] - 20s 169ms/step - loss: 0.0226 - accuracy: 0.9929 - val_loss: 1.6186 - val_accuracy: 0.7454 - lr: 1.9371e-04\n",
      "Epoch 34/80\n",
      "117/117 [==============================] - 21s 179ms/step - loss: 0.0206 - accuracy: 0.9941 - val_loss: 0.1677 - val_accuracy: 0.9535 - lr: 1.8403e-04\n",
      "Epoch 35/80\n",
      "117/117 [==============================] - 21s 180ms/step - loss: 0.0187 - accuracy: 0.9945 - val_loss: 4.0304 - val_accuracy: 0.5409 - lr: 1.7482e-04\n",
      "Epoch 36/80\n",
      "117/117 [==============================] - 21s 179ms/step - loss: 0.0161 - accuracy: 0.9957 - val_loss: 0.3878 - val_accuracy: 0.9108 - lr: 1.6608e-04\n",
      "Epoch 37/80\n",
      "117/117 [==============================] - 21s 179ms/step - loss: 0.0203 - accuracy: 0.9941 - val_loss: 8.2562 - val_accuracy: 0.3104 - lr: 1.5778e-04\n",
      "Epoch 38/80\n",
      "117/117 [==============================] - 20s 169ms/step - loss: 0.0204 - accuracy: 0.9938 - val_loss: 4.9301 - val_accuracy: 0.4480 - lr: 1.4989e-04\n",
      "Epoch 39/80\n",
      "117/117 [==============================] - 20s 173ms/step - loss: 0.0149 - accuracy: 0.9952 - val_loss: 0.2963 - val_accuracy: 0.9015 - lr: 1.4240e-04\n",
      "Epoch 40/80\n",
      "117/117 [==============================] - 21s 176ms/step - loss: 0.0189 - accuracy: 0.9957 - val_loss: 0.2073 - val_accuracy: 0.9424 - lr: 1.3528e-04\n",
      "Epoch 41/80\n",
      "117/117 [==============================] - 20s 173ms/step - loss: 0.0172 - accuracy: 0.9954 - val_loss: 0.1771 - val_accuracy: 0.9572 - lr: 1.2851e-04\n",
      "Epoch 42/80\n",
      "117/117 [==============================] - 21s 176ms/step - loss: 0.0150 - accuracy: 0.9957 - val_loss: 1.6974 - val_accuracy: 0.7045 - lr: 1.2209e-04\n",
      "Epoch 43/80\n",
      "117/117 [==============================] - 21s 179ms/step - loss: 0.0145 - accuracy: 0.9955 - val_loss: 0.2127 - val_accuracy: 0.9368 - lr: 1.1598e-04\n",
      "Epoch 44/80\n",
      "117/117 [==============================] - 20s 174ms/step - loss: 0.0154 - accuracy: 0.9957 - val_loss: 0.2465 - val_accuracy: 0.9405 - lr: 1.1018e-04\n",
      "Epoch 45/80\n",
      "117/117 [==============================] - 20s 175ms/step - loss: 0.0163 - accuracy: 0.9954 - val_loss: 0.1731 - val_accuracy: 0.9591 - lr: 1.0467e-04\n",
      "Epoch 46/80\n",
      "117/117 [==============================] - 21s 179ms/step - loss: 0.0134 - accuracy: 0.9955 - val_loss: 3.7281 - val_accuracy: 0.6078 - lr: 9.9440e-05\n",
      "Epoch 47/80\n",
      "117/117 [==============================] - 20s 171ms/step - loss: 0.0144 - accuracy: 0.9952 - val_loss: 0.0894 - val_accuracy: 0.9721 - lr: 9.4468e-05\n",
      "Epoch 48/80\n",
      "117/117 [==============================] - 20s 175ms/step - loss: 0.0131 - accuracy: 0.9963 - val_loss: 0.0899 - val_accuracy: 0.9758 - lr: 8.9745e-05\n",
      "Epoch 49/80\n",
      "117/117 [==============================] - 21s 181ms/step - loss: 0.0160 - accuracy: 0.9941 - val_loss: 0.6289 - val_accuracy: 0.8513 - lr: 8.5258e-05\n",
      "Epoch 50/80\n",
      "117/117 [==============================] - 21s 179ms/step - loss: 0.0126 - accuracy: 0.9961 - val_loss: 3.0934 - val_accuracy: 0.5520 - lr: 8.0995e-05\n",
      "Epoch 51/80\n",
      "117/117 [==============================] - 21s 182ms/step - loss: 0.0126 - accuracy: 0.9955 - val_loss: 1.6580 - val_accuracy: 0.7323 - lr: 7.6945e-05\n",
      "Epoch 52/80\n",
      "117/117 [==============================] - 21s 183ms/step - loss: 0.0098 - accuracy: 0.9973 - val_loss: 0.1584 - val_accuracy: 0.9628 - lr: 7.3098e-05\n",
      "Epoch 53/80\n",
      "117/117 [==============================] - 21s 178ms/step - loss: 0.0115 - accuracy: 0.9964 - val_loss: 4.6288 - val_accuracy: 0.4740 - lr: 6.9443e-05\n",
      "Epoch 54/80\n",
      "117/117 [==============================] - 21s 178ms/step - loss: 0.0082 - accuracy: 0.9980 - val_loss: 0.3543 - val_accuracy: 0.9089 - lr: 6.5971e-05\n",
      "Epoch 55/80\n",
      "117/117 [==============================] - 21s 175ms/step - loss: 0.0119 - accuracy: 0.9957 - val_loss: 0.1095 - val_accuracy: 0.9703 - lr: 6.2672e-05\n",
      "Epoch 56/80\n",
      "117/117 [==============================] - 20s 170ms/step - loss: 0.0096 - accuracy: 0.9968 - val_loss: 0.2961 - val_accuracy: 0.8959 - lr: 5.9539e-05\n",
      "Epoch 57/80\n",
      "117/117 [==============================] - 20s 173ms/step - loss: 0.0079 - accuracy: 0.9982 - val_loss: 0.5921 - val_accuracy: 0.8717 - lr: 5.6562e-05\n",
      "Epoch 58/80\n",
      "117/117 [==============================] - 21s 175ms/step - loss: 0.0083 - accuracy: 0.9973 - val_loss: 0.0878 - val_accuracy: 0.9777 - lr: 5.3734e-05\n",
      "Epoch 59/80\n",
      "117/117 [==============================] - 21s 176ms/step - loss: 0.0089 - accuracy: 0.9977 - val_loss: 0.3473 - val_accuracy: 0.9201 - lr: 5.1047e-05\n",
      "Epoch 60/80\n",
      "117/117 [==============================] - 20s 174ms/step - loss: 0.0080 - accuracy: 0.9980 - val_loss: 0.7658 - val_accuracy: 0.8234 - lr: 4.8495e-05\n",
      "Epoch 61/80\n",
      "117/117 [==============================] - 21s 176ms/step - loss: 0.0084 - accuracy: 0.9977 - val_loss: 0.7417 - val_accuracy: 0.8011 - lr: 4.6070e-05\n",
      "Epoch 62/80\n",
      "117/117 [==============================] - 20s 174ms/step - loss: 0.0084 - accuracy: 0.9975 - val_loss: 0.1111 - val_accuracy: 0.9684 - lr: 4.3766e-05\n",
      "Epoch 63/80\n",
      "117/117 [==============================] - 21s 184ms/step - loss: 0.0070 - accuracy: 0.9982 - val_loss: 0.0616 - val_accuracy: 0.9833 - lr: 4.1578e-05\n",
      "Epoch 64/80\n",
      "117/117 [==============================] - 21s 182ms/step - loss: 0.0063 - accuracy: 0.9993 - val_loss: 0.0955 - val_accuracy: 0.9758 - lr: 3.9499e-05\n",
      "Epoch 65/80\n",
      "117/117 [==============================] - 21s 179ms/step - loss: 0.0087 - accuracy: 0.9975 - val_loss: 0.1596 - val_accuracy: 0.9628 - lr: 3.7524e-05\n",
      "Epoch 66/80\n",
      "117/117 [==============================] - 21s 183ms/step - loss: 0.0080 - accuracy: 0.9982 - val_loss: 0.1888 - val_accuracy: 0.9554 - lr: 3.5648e-05\n",
      "Epoch 67/80\n",
      "117/117 [==============================] - 21s 178ms/step - loss: 0.0073 - accuracy: 0.9977 - val_loss: 0.1212 - val_accuracy: 0.9647 - lr: 3.3866e-05\n",
      "Epoch 68/80\n",
      "117/117 [==============================] - 21s 175ms/step - loss: 0.0065 - accuracy: 0.9986 - val_loss: 0.1766 - val_accuracy: 0.9572 - lr: 3.2172e-05\n",
      "Epoch 69/80\n",
      "117/117 [==============================] - 21s 177ms/step - loss: 0.0080 - accuracy: 0.9975 - val_loss: 0.1391 - val_accuracy: 0.9684 - lr: 3.0564e-05\n",
      "Epoch 70/80\n",
      "117/117 [==============================] - 20s 173ms/step - loss: 0.0047 - accuracy: 0.9989 - val_loss: 0.0938 - val_accuracy: 0.9740 - lr: 2.9035e-05\n",
      "Epoch 71/80\n",
      "117/117 [==============================] - 21s 176ms/step - loss: 0.0067 - accuracy: 0.9986 - val_loss: 0.1418 - val_accuracy: 0.9628 - lr: 2.7584e-05\n",
      "Epoch 72/80\n",
      "117/117 [==============================] - 21s 177ms/step - loss: 0.0053 - accuracy: 0.9984 - val_loss: 0.1284 - val_accuracy: 0.9610 - lr: 2.6205e-05\n",
      "Epoch 73/80\n",
      "117/117 [==============================] - 21s 178ms/step - loss: 0.0055 - accuracy: 0.9991 - val_loss: 0.1221 - val_accuracy: 0.9665 - lr: 2.4894e-05\n",
      "Epoch 74/80\n",
      "117/117 [==============================] - 20s 174ms/step - loss: 0.0080 - accuracy: 0.9980 - val_loss: 0.0781 - val_accuracy: 0.9777 - lr: 2.3650e-05\n",
      "Epoch 75/80\n",
      "117/117 [==============================] - 21s 180ms/step - loss: 0.0061 - accuracy: 0.9975 - val_loss: 0.1138 - val_accuracy: 0.9628 - lr: 2.2467e-05\n",
      "Epoch 76/80\n",
      "117/117 [==============================] - 21s 180ms/step - loss: 0.0050 - accuracy: 0.9989 - val_loss: 0.1492 - val_accuracy: 0.9572 - lr: 2.1344e-05\n",
      "Epoch 77/80\n",
      "117/117 [==============================] - 20s 174ms/step - loss: 0.0049 - accuracy: 0.9986 - val_loss: 0.1082 - val_accuracy: 0.9758 - lr: 2.0277e-05\n",
      "Epoch 78/80\n",
      "117/117 [==============================] - 21s 178ms/step - loss: 0.0053 - accuracy: 0.9988 - val_loss: 0.1714 - val_accuracy: 0.9572 - lr: 1.9263e-05\n",
      "Epoch 79/80\n",
      "117/117 [==============================] - 21s 178ms/step - loss: 0.0041 - accuracy: 0.9993 - val_loss: 0.1034 - val_accuracy: 0.9758 - lr: 1.8300e-05\n",
      "Epoch 80/80\n",
      "117/117 [==============================] - 20s 169ms/step - loss: 0.0057 - accuracy: 0.9991 - val_loss: 0.0919 - val_accuracy: 0.9703 - lr: 1.7385e-05\n"
     ]
    }
   ],
   "source": [
    "annealer = LearningRateScheduler(lambda x: 1e-3 * 0.95 ** x, verbose=0)\n",
    "\n",
    "model.compile(optimizer='adam',loss=\"categorical_crossentropy\", metrics=[\"accuracy\"])\n",
    "history = model.fit(train_generator,\n",
    "          steps_per_epoch=len(train_generator),\n",
    "          epochs=80,\n",
    "          validation_data=test_generator,\n",
    "          validation_steps = len(test_generator),\n",
    "          callbacks=[annealer], \n",
    "          verbose=1)"
   ]
  },
  {
   "cell_type": "code",
   "execution_count": 11,
   "id": "c139ec9e",
   "metadata": {
    "execution": {
     "iopub.execute_input": "2023-03-06T08:20:30.223873Z",
     "iopub.status.busy": "2023-03-06T08:20:30.223466Z",
     "iopub.status.idle": "2023-03-06T08:20:30.478527Z",
     "shell.execute_reply": "2023-03-06T08:20:30.477560Z"
    },
    "papermill": {
     "duration": 0.765045,
     "end_time": "2023-03-06T08:20:30.480842",
     "exception": false,
     "start_time": "2023-03-06T08:20:29.715797",
     "status": "completed"
    },
    "tags": []
   },
   "outputs": [
    {
     "data": {
      "text/plain": [
       "<matplotlib.legend.Legend at 0x7f7dcf460b50>"
      ]
     },
     "execution_count": 11,
     "metadata": {},
     "output_type": "execute_result"
    },
    {
     "data": {
      "image/png": "[encoded data removed]",
      "text/plain": [
       "<Figure size 640x480 with 1 Axes>"
      ]
     },
     "metadata": {},
     "output_type": "display_data"
    }
   ],
   "source": [
    "plt.xlabel('Epoch Number')\n",
    "plt.ylabel('Accuracy')\n",
    "plt.plot(history.history['accuracy'], label='training set')\n",
    "plt.plot(history.history['val_accuracy'], label='validation set')\n",
    "plt.legend()"
   ]
  },
  {
   "cell_type": "code",
   "execution_count": 12,
   "id": "e6b7e269",
   "metadata": {
    "execution": {
     "iopub.execute_input": "2023-03-06T08:20:31.774856Z",
     "iopub.status.busy": "2023-03-06T08:20:31.774297Z",
     "iopub.status.idle": "2023-03-06T08:20:32.027753Z",
     "shell.execute_reply": "2023-03-06T08:20:32.026688Z"
    },
    "papermill": {
     "duration": 0.879922,
     "end_time": "2023-03-06T08:20:32.030060",
     "exception": false,
     "start_time": "2023-03-06T08:20:31.150138",
     "status": "completed"
    },
    "tags": []
   },
   "outputs": [
    {
     "data": {
      "text/plain": [
       "<matplotlib.legend.Legend at 0x7f7dcf38f490>"
      ]
     },
     "execution_count": 12,
     "metadata": {},
     "output_type": "execute_result"
    },
    {
     "data": {
      "image/png": "[encoded data removed]",
      "text/plain": [
       "<Figure size 640x480 with 1 Axes>"
      ]
     },
     "metadata": {},
     "output_type": "display_data"
    }
   ],
   "source": [
    "plt.xlabel('Epoch Number')\n",
    "plt.ylabel('LOSS')\n",
    "plt.plot(history.history['loss'], label='training set')\n",
    "plt.plot(history.history['val_loss'], label='validation set')\n",
    "plt.legend()"
   ]
  },
  {
   "cell_type": "code",
   "execution_count": 13,
   "id": "4b110c16",
   "metadata": {
    "execution": {
     "iopub.execute_input": "2023-03-06T08:20:33.079915Z",
     "iopub.status.busy": "2023-03-06T08:20:33.079551Z",
     "iopub.status.idle": "2023-03-06T08:20:53.749663Z",
     "shell.execute_reply": "2023-03-06T08:20:53.748511Z"
    },
    "papermill": {
     "duration": 21.192743,
     "end_time": "2023-03-06T08:20:53.751842",
     "exception": false,
     "start_time": "2023-03-06T08:20:32.559099",
     "status": "completed"
    },
    "tags": []
   },
   "outputs": [
    {
     "name": "stdout",
     "output_type": "stream",
     "text": [
      "117/117 [==============================] - 19s 163ms/step - loss: 0.0904 - accuracy: 0.9653\n"
     ]
    },
    {
     "data": {
      "text/plain": [
       "[0.09035711735486984, 0.9652777910232544]"
      ]
     },
     "execution_count": 13,
     "metadata": {},
     "output_type": "execute_result"
    }
   ],
   "source": [
    "model.evaluate(train_generator)"
   ]
  },
  {
   "cell_type": "code",
   "execution_count": 14,
   "id": "d1cbca46",
   "metadata": {
    "execution": {
     "iopub.execute_input": "2023-03-06T08:20:54.828435Z",
     "iopub.status.busy": "2023-03-06T08:20:54.827426Z",
     "iopub.status.idle": "2023-03-06T08:20:55.602739Z",
     "shell.execute_reply": "2023-03-06T08:20:55.601591Z"
    },
    "papermill": {
     "duration": 1.291001,
     "end_time": "2023-03-06T08:20:55.605127",
     "exception": false,
     "start_time": "2023-03-06T08:20:54.314126",
     "status": "completed"
    },
    "tags": []
   },
   "outputs": [
    {
     "name": "stdout",
     "output_type": "stream",
     "text": [
      "12/12 [==============================] - 1s 53ms/step - loss: 0.0919 - accuracy: 0.9703\n"
     ]
    },
    {
     "data": {
      "text/plain": [
       "[0.09193087369203568, 0.9702602028846741]"
      ]
     },
     "execution_count": 14,
     "metadata": {},
     "output_type": "execute_result"
    }
   ],
   "source": [
    "model.evaluate(test_generator)"
   ]
  },
  {
   "cell_type": "code",
   "execution_count": 15,
   "id": "82aaa8cc",
   "metadata": {
    "execution": {
     "iopub.execute_input": "2023-03-06T08:20:56.701963Z",
     "iopub.status.busy": "2023-03-06T08:20:56.701595Z",
     "iopub.status.idle": "2023-03-06T08:20:56.807558Z",
     "shell.execute_reply": "2023-03-06T08:20:56.806462Z"
    },
    "papermill": {
     "duration": 0.682419,
     "end_time": "2023-03-06T08:20:56.810062",
     "exception": false,
     "start_time": "2023-03-06T08:20:56.127643",
     "status": "completed"
    },
    "tags": []
   },
   "outputs": [],
   "source": [
    "model.save('model.h5',save_format='h5')"
   ]
  }
 ],
 "metadata": {
  "kernelspec": {
   "display_name": "Python 3",
   "language": "python",
   "name": "python3"
  },
  "language_info": {
   "codemirror_mode": {
    "name": "ipython",
    "version": 3
   },
   "file_extension": ".py",
   "mimetype": "text/x-python",
   "name": "python",
   "nbconvert_exporter": "python",
   "pygments_lexer": "ipython3",
   "version": "3.7.12"
  },
  "papermill": {
   "default_parameters": {},
   "duration": 1820.838754,
   "end_time": "2023-03-06T08:21:00.918363",
   "environment_variables": {},
   "exception": null,
   "input_path": "__notebook__.ipynb",
   "output_path": "__notebook__.ipynb",
   "parameters": {},
   "start_time": "2023-03-06T07:50:40.079609",
   "version": "2.4.0"
  }
 },
 "nbformat": 4,
 "nbformat_minor": 5
}
